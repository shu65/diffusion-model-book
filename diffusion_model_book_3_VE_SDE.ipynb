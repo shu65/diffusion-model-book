{
  "nbformat": 4,
  "nbformat_minor": 0,
  "metadata": {
    "colab": {
      "provenance": [],
      "authorship_tag": "ABX9TyOJ2slfa1Nttr8j+spvFY1x",
      "include_colab_link": true
    },
    "kernelspec": {
      "name": "python3",
      "display_name": "Python 3"
    },
    "language_info": {
      "name": "python"
    }
  },
  "cells": [
    {
      "cell_type": "markdown",
      "metadata": {
        "id": "view-in-github",
        "colab_type": "text"
      },
      "source": [
        "<a href=\"https://colab.research.google.com/github/shu65/diffusion-model-book/blob/main/diffusion_model_book_3_VE_SDE.ipynb\" target=\"_parent\"><img src=\"https://colab.research.google.com/assets/colab-badge.svg\" alt=\"Open In Colab\"/></a>"
      ]
    },
    {
      "cell_type": "code",
      "execution_count": null,
      "metadata": {
        "id": "QEb0eFhy-8Fu"
      },
      "outputs": [],
      "source": [
        "from tqdm import tqdm_notebook as tqdm\n",
        "import torch\n",
        "\n",
        "device=\"cpu\""
      ]
    },
    {
      "cell_type": "code",
      "source": [
        "n_samples = int(1e6)\n",
        "sigma = 0.01\n",
        "\n",
        "dist0 = torch.distributions.MultivariateNormal(torch.tensor([-2, -2], dtype=torch.float).to(device), sigma*torch.eye(2, dtype=torch.float).to(device))\n",
        "samples0 = dist0.sample(torch.Size([n_samples//2]))\n",
        "    \n",
        "dist1 = torch.distributions.MultivariateNormal(torch.tensor([2, 2], dtype=torch.float).to(device), sigma*torch.eye(2, dtype=torch.float).to(device))\n",
        "samples1 = dist1.sample(torch.Size([n_samples//2]))\n",
        "samples = torch.vstack((samples0, samples1))\n",
        "\n",
        "mean = torch.mean(samples, dim=0)\n",
        "std = torch.std(samples, dim=0)\n",
        "\n",
        "normalized_samples = (samples - mean[None, :])/std[None, :]\n",
        "\n",
        "dataset = torch.utils.data.TensorDataset((normalized_samples))"
      ],
      "metadata": {
        "id": "OUg5wTin-_yP"
      },
      "execution_count": null,
      "outputs": []
    },
    {
      "cell_type": "code",
      "source": [
        "%matplotlib inline\n",
        "import numpy as np\n",
        "import torch\n",
        "import matplotlib.pyplot as plt\n",
        "\n",
        "plot_samples = normalized_samples.cpu().numpy()\n",
        "\n",
        "plt.hist2d(plot_samples[:,0], plot_samples[:,1], range=((-2, 2), (-2, 2)), cmap='viridis', rasterized=False, bins=100, density=True)\n",
        "plt.gca().set_aspect('equal', adjustable='box')\n",
        "plt.xlim([-2, 2])\n",
        "plt.ylim([-2, 2])\n",
        "plt.title('Sample Density')\n",
        "plt.show()"
      ],
      "metadata": {
        "colab": {
          "base_uri": "https://localhost:8080/",
          "height": 281
        },
        "id": "8SRAyXtK_Nj4",
        "outputId": "6a4687cf-fb91-4318-dbbb-6841227bf603"
      },
      "execution_count": null,
      "outputs": [
        {
          "output_type": "display_data",
          "data": {
            "text/plain": [
              "<Figure size 432x288 with 1 Axes>"
            ],
            "image/png": "[encoded data removed]"
          },
          "metadata": {
            "needs_background": "light"
          }
        }
      ]
    },
    {
      "cell_type": "code",
      "source": [
        "sigma_min = torch.tensor(0.01, device=device)\n",
        "sigma_max = torch.tensor(10.0, device=device) \n",
        "\n",
        "def sigma(t, sigma_min=sigma_min, sigma_max=sigma_max):\n",
        "  return sigma_min * (sigma_max / sigma_min) ** t "
      ],
      "metadata": {
        "id": "m0NnI2oi_ZK5"
      },
      "execution_count": null,
      "outputs": []
    },
    {
      "cell_type": "code",
      "source": [
        "plot_t = torch.linspace(0, 1, 1000, device=device)\n",
        "plot_log_sigma = sigma(plot_t)\n",
        "\n",
        "plt.plot(plot_t.cpu().numpy(), plot_log_sigma.cpu().numpy())\n",
        "plt.show()\n",
        "plt.plot(plot_t.cpu().numpy(), np.log(plot_log_sigma.cpu().numpy()))\n",
        "plt.show()"
      ],
      "metadata": {
        "colab": {
          "base_uri": "https://localhost:8080/",
          "height": 513
        },
        "id": "8Up4sG3lAYEf",
        "outputId": "67edbeae-42f9-493c-86d3-b6baee99e2d5"
      },
      "execution_count": null,
      "outputs": [
        {
          "output_type": "display_data",
          "data": {
            "text/plain": [
              "<Figure size 432x288 with 1 Axes>"
            ],
            "image/png": "[encoded data removed]"
          },
          "metadata": {
            "needs_background": "light"
          }
        },
        {
          "output_type": "display_data",
          "data": {
            "text/plain": [
              "<Figure size 432x288 with 1 Axes>"
            ],
            "image/png": "[encoded data removed]"
          },
          "metadata": {
            "needs_background": "light"
          }
        }
      ]
    },
    {
      "cell_type": "code",
      "source": [
        "def ve_sde_marginal_prob_statistics(x, t, sigma_min, sigma_max):\n",
        "  mean = x\n",
        "  std = sigma(t=t, sigma_min=sigma_min, sigma_max=sigma_max)\n",
        "  return mean, std"
      ],
      "metadata": {
        "id": "KxspcTDE6UUW"
      },
      "execution_count": null,
      "outputs": []
    },
    {
      "cell_type": "code",
      "source": [
        "def ve_sde_drift(t, sigma_min, sigma_max):\n",
        "  drift = torch.zeros_like(t)\n",
        "  return drift\n",
        "\n",
        "def ve_sde_diffusion(t, sigma_min, sigma_max):\n",
        "  std = sigma(t=t, sigma_min=sigma_min, sigma_max=sigma_max)\n",
        "  diffusion = std * torch.sqrt(2 * (torch.log(sigma_max) - torch.log(sigma_min))) # (30)\n",
        "  return diffusion"
      ],
      "metadata": {
        "id": "MVd11yVV9aRA"
      },
      "execution_count": null,
      "outputs": []
    },
    {
      "cell_type": "code",
      "source": [
        "def dsm_loss(score_model, samples, sigma_min, sigma_max):\n",
        "  eps = 1.0e-8\n",
        "  t = torch.distributions.uniform.Uniform(torch.tensor([eps], device=samples.device), torch.tensor([1], device=samples.device)).sample([samples.shape[0]]) \n",
        "  z = torch.randn_like(samples)\n",
        "  mean, std = ve_sde_marginal_prob_statistics(x=samples, t=t, sigma_min=sigma_min, sigma_max=sigma_max)\n",
        "  noise = z * std\n",
        "  perturbed_samples = mean + z * std\n",
        "  scores = score_model(perturbed_samples, t)\n",
        "  target = - 1 / (std ** 2) * noise\n",
        "  \n",
        "  target = target.view(target.shape[0], -1)\n",
        "  scores = scores.view(scores.shape[0], -1)\n",
        "  g = ve_sde_diffusion(t=t, sigma_min=sigma_min, sigma_max=sigma_max)\n",
        "  lmd = g ** 2\n",
        "  loss = torch.sqrt(((scores - target) ** 2).sum(dim=-1)) * lmd\n",
        "  return loss.mean()"
      ],
      "metadata": {
        "id": "S5IND5euA58Z"
      },
      "execution_count": null,
      "outputs": []
    },
    {
      "cell_type": "code",
      "source": [
        "import numpy as np\n",
        "import torch\n",
        "import torch.nn as nn\n",
        "import torch.nn.functional as F\n",
        "\n",
        "class ScoreModel(nn.Module):\n",
        "  def __init__(self, sigma_min, sigma_max, n_channels=2):\n",
        "    super(ScoreModel, self).__init__()\n",
        "    self.sigma_min = sigma_min\n",
        "    self.sigma_max = sigma_max\n",
        "    self.model = nn.Sequential(\n",
        "        nn.Linear(n_channels, 2*n_channels),\n",
        "        nn.ELU(),\n",
        "        nn.Linear(2*n_channels, 16*n_channels),\n",
        "        nn.ELU(),\n",
        "        nn.Linear(16*n_channels, 2*n_channels),\n",
        "        nn.ELU(),\n",
        "        nn.Linear(2*n_channels, n_channels),\n",
        "    )\n",
        "\n",
        "  def forward(self, x, t):\n",
        "    y = self.model(x)\n",
        "    sigma_t = sigma(t=t, sigma_min=self.sigma_min, sigma_max=self.sigma_max)\n",
        "    return y/sigma_t"
      ],
      "metadata": {
        "id": "AgbS5rmk-_70"
      },
      "execution_count": null,
      "outputs": []
    },
    {
      "cell_type": "code",
      "source": [
        "import torch\n",
        "\n",
        "batch_size = 512\n",
        "n_steps = 100000\n",
        "\n",
        "dataloader = torch.utils.data.DataLoader(dataset, batch_size=512, shuffle=True, num_workers=0)\n",
        "dataloader_iter = iter(dataloader)\n",
        "\n",
        "score_model = ScoreModel(sigma_min=sigma_min, sigma_max=sigma_max).to(device)\n",
        "\n",
        "optimizer = torch.optim.Adam(score_model.parameters())\n",
        "lr_scheduler = torch.optim.lr_scheduler.OneCycleLR(optimizer, max_lr=0.001, total_steps=n_steps)\n",
        "\n",
        "for i in range(n_steps):\n",
        "  try:\n",
        "    x = next(dataloader_iter)[0]\n",
        "  except StopIteration:\n",
        "    dataloader_iter = iter(dataloader)\n",
        "    x = next(dataloader_iter)[0]\n",
        "  x = x.to(device)\n",
        "\n",
        "  optimizer.zero_grad()\n",
        "  loss = dsm_loss(score_model, x, sigma_min=sigma_min, sigma_max=sigma_max)\n",
        "  loss.backward()\n",
        "  optimizer.step()\n",
        "  lr_scheduler.step()\n",
        "  if (i % 1000) == 0:\n",
        "    print(f\"{i} steps loss:{loss}\")"
      ],
      "metadata": {
        "colab": {
          "base_uri": "https://localhost:8080/"
        },
        "id": "zVbQT-Iv_el2",
        "outputId": "cff8cda6-5cbd-4aa3-bd70-cccdb955dcc7"
      },
      "execution_count": null,
      "outputs": [
        {
          "output_type": "stream",
          "name": "stdout",
          "text": [
            "0 steps loss:1859.2049560546875\n",
            "1000 steps loss:1944.5516357421875\n",
            "2000 steps loss:2025.0797119140625\n",
            "3000 steps loss:1731.193359375\n",
            "4000 steps loss:1460.9530029296875\n",
            "5000 steps loss:1305.2705078125\n",
            "6000 steps loss:1971.225341796875\n",
            "7000 steps loss:1768.1434326171875\n",
            "8000 steps loss:1572.624755859375\n",
            "9000 steps loss:1639.954345703125\n",
            "10000 steps loss:1911.223876953125\n",
            "11000 steps loss:1662.96435546875\n",
            "12000 steps loss:1700.100341796875\n",
            "13000 steps loss:1971.902587890625\n",
            "14000 steps loss:1711.3748779296875\n",
            "15000 steps loss:1776.391845703125\n",
            "16000 steps loss:1484.6676025390625\n",
            "17000 steps loss:1919.545654296875\n",
            "18000 steps loss:1619.9324951171875\n",
            "19000 steps loss:1688.3319091796875\n",
            "20000 steps loss:1337.708740234375\n",
            "21000 steps loss:1704.1593017578125\n",
            "22000 steps loss:1349.9967041015625\n",
            "23000 steps loss:1664.606201171875\n",
            "24000 steps loss:1819.019287109375\n",
            "25000 steps loss:1611.3419189453125\n",
            "26000 steps loss:1434.19580078125\n",
            "27000 steps loss:1729.96923828125\n",
            "28000 steps loss:1770.2747802734375\n",
            "29000 steps loss:1499.20166015625\n",
            "30000 steps loss:1685.4002685546875\n",
            "31000 steps loss:1660.073974609375\n",
            "32000 steps loss:1777.1656494140625\n",
            "33000 steps loss:1501.560791015625\n",
            "34000 steps loss:1613.48681640625\n",
            "35000 steps loss:1724.016357421875\n",
            "36000 steps loss:1239.4561767578125\n",
            "37000 steps loss:1382.387451171875\n",
            "38000 steps loss:1752.8114013671875\n",
            "39000 steps loss:1778.257080078125\n",
            "40000 steps loss:1354.485595703125\n",
            "41000 steps loss:1895.1209716796875\n",
            "42000 steps loss:1586.7813720703125\n",
            "43000 steps loss:1223.6361083984375\n",
            "44000 steps loss:1156.4461669921875\n",
            "45000 steps loss:1445.104736328125\n",
            "46000 steps loss:1626.667724609375\n",
            "47000 steps loss:1659.5614013671875\n",
            "48000 steps loss:1508.3685302734375\n",
            "49000 steps loss:1189.2852783203125\n",
            "50000 steps loss:1416.574462890625\n",
            "51000 steps loss:1378.7445068359375\n",
            "52000 steps loss:1555.0146484375\n",
            "53000 steps loss:1449.140380859375\n",
            "54000 steps loss:1639.216064453125\n",
            "55000 steps loss:1417.510498046875\n",
            "56000 steps loss:1543.335205078125\n",
            "57000 steps loss:1600.5015869140625\n",
            "58000 steps loss:1736.684326171875\n",
            "59000 steps loss:1602.336669921875\n",
            "60000 steps loss:1650.90234375\n",
            "61000 steps loss:1914.06884765625\n",
            "62000 steps loss:1724.775390625\n",
            "63000 steps loss:1662.1180419921875\n",
            "64000 steps loss:1596.939453125\n",
            "65000 steps loss:1654.9027099609375\n",
            "66000 steps loss:1425.41015625\n",
            "67000 steps loss:1750.7001953125\n",
            "68000 steps loss:1770.9078369140625\n",
            "69000 steps loss:1326.52978515625\n",
            "70000 steps loss:1599.9464111328125\n",
            "71000 steps loss:1204.662109375\n",
            "72000 steps loss:1262.2047119140625\n",
            "73000 steps loss:1526.552978515625\n",
            "74000 steps loss:1537.0894775390625\n",
            "75000 steps loss:1506.67578125\n",
            "76000 steps loss:1488.7884521484375\n",
            "77000 steps loss:1979.8375244140625\n",
            "78000 steps loss:1668.7127685546875\n",
            "79000 steps loss:1291.64990234375\n",
            "80000 steps loss:1474.0928955078125\n",
            "81000 steps loss:1243.7567138671875\n",
            "82000 steps loss:1886.950439453125\n",
            "83000 steps loss:1724.3499755859375\n",
            "84000 steps loss:1750.46484375\n",
            "85000 steps loss:1466.8629150390625\n",
            "86000 steps loss:1885.470458984375\n",
            "87000 steps loss:1604.2086181640625\n",
            "88000 steps loss:1576.0745849609375\n",
            "89000 steps loss:1479.397216796875\n",
            "90000 steps loss:2024.5301513671875\n",
            "91000 steps loss:1208.362060546875\n",
            "92000 steps loss:1726.1832275390625\n",
            "93000 steps loss:1445.5631103515625\n",
            "94000 steps loss:1562.2728271484375\n",
            "95000 steps loss:1294.272216796875\n",
            "96000 steps loss:1663.67822265625\n",
            "97000 steps loss:1811.1575927734375\n",
            "98000 steps loss:1532.77783203125\n",
            "99000 steps loss:1943.4501953125\n"
          ]
        }
      ]
    },
    {
      "cell_type": "code",
      "source": [
        "def euler_maruyama_sample(n_samples, score_model, device=device, n=1000):\n",
        "  with torch.no_grad():\n",
        "    x = torch.randn(n_samples, 2, device=device)\n",
        "    dt = torch.tensor(1.0 / n, device=x.device)\n",
        "    for t in range(n, 0, -1):\n",
        "      if (t % 10) == 0:\n",
        "        print(f\"t:{t}\")\n",
        "      assert not torch.any(torch.isnan(x))\n",
        "      t_tensor = torch.full((n_samples, 1), t/n, device=device)\n",
        "      z = torch.randn(n_samples, 2)\n",
        "      f = ve_sde_drift(t_tensor, score_model.sigma_min, score_model.sigma_max)\n",
        "      g = ve_sde_diffusion(t_tensor, score_model.sigma_min, score_model.sigma_max)\n",
        "      g2 = g ** 2\n",
        "      score = score_model(x, t_tensor)\n",
        "      x = x - (f*x - g2 * score) * dt + g * torch.sqrt(dt) * z\n",
        "    return x"
      ],
      "metadata": {
        "id": "cZdfLqp8AoWC"
      },
      "execution_count": null,
      "outputs": []
    },
    {
      "cell_type": "code",
      "source": [
        "samples_pred = euler_maruyama_sample(n_samples=100000, score_model=score_model)\n",
        "samples_pred = samples_pred.cpu().numpy()"
      ],
      "metadata": {
        "colab": {
          "base_uri": "https://localhost:8080/"
        },
        "id": "HbUOnUjbArk3",
        "outputId": "e08f551a-c2f4-48a6-fbfb-a400b6966bf9"
      },
      "execution_count": null,
      "outputs": [
        {
          "output_type": "stream",
          "name": "stdout",
          "text": [
            "t:1000\n",
            "t:990\n",
            "t:980\n",
            "t:970\n",
            "t:960\n",
            "t:950\n",
            "t:940\n",
            "t:930\n",
            "t:920\n",
            "t:910\n",
            "t:900\n",
            "t:890\n",
            "t:880\n",
            "t:870\n",
            "t:860\n",
            "t:850\n",
            "t:840\n",
            "t:830\n",
            "t:820\n",
            "t:810\n",
            "t:800\n",
            "t:790\n",
            "t:780\n",
            "t:770\n",
            "t:760\n",
            "t:750\n",
            "t:740\n",
            "t:730\n",
            "t:720\n",
            "t:710\n",
            "t:700\n",
            "t:690\n",
            "t:680\n",
            "t:670\n",
            "t:660\n",
            "t:650\n",
            "t:640\n",
            "t:630\n",
            "t:620\n",
            "t:610\n",
            "t:600\n",
            "t:590\n",
            "t:580\n",
            "t:570\n",
            "t:560\n",
            "t:550\n",
            "t:540\n",
            "t:530\n",
            "t:520\n",
            "t:510\n",
            "t:500\n",
            "t:490\n",
            "t:480\n",
            "t:470\n",
            "t:460\n",
            "t:450\n",
            "t:440\n",
            "t:430\n",
            "t:420\n",
            "t:410\n",
            "t:400\n",
            "t:390\n",
            "t:380\n",
            "t:370\n",
            "t:360\n",
            "t:350\n",
            "t:340\n",
            "t:330\n",
            "t:320\n",
            "t:310\n",
            "t:300\n",
            "t:290\n",
            "t:280\n",
            "t:270\n",
            "t:260\n",
            "t:250\n",
            "t:240\n",
            "t:230\n",
            "t:220\n",
            "t:210\n",
            "t:200\n",
            "t:190\n",
            "t:180\n",
            "t:170\n",
            "t:160\n",
            "t:150\n",
            "t:140\n",
            "t:130\n",
            "t:120\n",
            "t:110\n",
            "t:100\n",
            "t:90\n",
            "t:80\n",
            "t:70\n",
            "t:60\n",
            "t:50\n",
            "t:40\n",
            "t:30\n",
            "t:20\n",
            "t:10\n"
          ]
        }
      ]
    },
    {
      "cell_type": "code",
      "source": [
        "%matplotlib inline\n",
        "import numpy as np\n",
        "import torch\n",
        "import matplotlib.pyplot as plt\n",
        "\n",
        "plt.hist2d(samples_pred[:,0], samples_pred[:,1], range=((-2, 2), (-2, 2)), cmap='viridis', rasterized=False, bins=100, density=True)\n",
        "plt.gca().set_aspect('equal', adjustable='box')\n",
        "plt.xlim([-2, 2])\n",
        "plt.ylim([-2, 2])\n",
        "plt.title('Predicted Sample Density')\n",
        "plt.show()"
      ],
      "metadata": {
        "colab": {
          "base_uri": "https://localhost:8080/",
          "height": 281
        },
        "id": "qup4YWWkIcIr",
        "outputId": "dac3201c-1d72-4775-a885-5cde6be0cb5f"
      },
      "execution_count": null,
      "outputs": [
        {
          "output_type": "display_data",
          "data": {
            "text/plain": [
              "<Figure size 432x288 with 1 Axes>"
            ],
            "image/png": "[encoded data removed]"
          },
          "metadata": {
            "needs_background": "light"
          }
        }
      ]
    }
  ]
}